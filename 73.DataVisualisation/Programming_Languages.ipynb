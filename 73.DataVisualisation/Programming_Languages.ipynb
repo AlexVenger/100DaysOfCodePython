{
 "nbformat": 4,
 "nbformat_minor": 0,
 "metadata": {
  "kernelspec": {
   "display_name": "Python 3",
   "language": "python",
   "name": "python3"
  },
  "language_info": {
   "codemirror_mode": {
    "name": "ipython",
    "version": 3
   },
   "file_extension": ".py",
   "mimetype": "text/x-python",
   "name": "python",
   "nbconvert_exporter": "python",
   "pygments_lexer": "ipython3",
   "version": "3.7.3"
  },
  "colab": {
   "name": "Programming Languages (start).ipynb",
   "provenance": []
  }
 },
 "cells": [
  {
   "cell_type": "markdown",
   "metadata": {
    "id": "MAAKxOwsGxuj",
    "colab_type": "text"
   },
   "source": [
    "## Get the Data\n",
    "\n",
    "Either use the provided .csv file or (optionally) get fresh (the freshest?) data from running an SQL query on StackExchange: \n",
    "\n",
    "Follow this link to run the query from [StackExchange](https://data.stackexchange.com/stackoverflow/query/675441/popular-programming-languages-per-over-time-eversql-com) to get your own .csv file\n",
    "\n",
    "<code>\n",
    "select dateadd(month, datediff(month, 0, q.CreationDate), 0) m, TagName, count(*)\n",
    "from PostTags pt\n",
    "join Posts q on q.Id=pt.PostId\n",
    "join Tags t on t.Id=pt.TagId\n",
    "where TagName in ('java','c','c++','python','c#','javascript','assembly','php','perl','ruby','visual basic','swift','r','object-c','scratch','go','swift','delphi')\n",
    "and q.CreationDate < dateadd(month, datediff(month, 0, getdate()), 0)\n",
    "group by dateadd(month, datediff(month, 0, q.CreationDate), 0), TagName\n",
    "order by dateadd(month, datediff(month, 0, q.CreationDate), 0)\n",
    "</code>"
   ]
  },
  {
   "cell_type": "markdown",
   "metadata": {
    "id": "u5KcSXt1Gxuk",
    "colab_type": "text"
   },
   "source": [
    "## Import Statements"
   ]
  },
  {
   "cell_type": "code",
   "metadata": {
    "id": "Ru4Wq-pXGxuk",
    "colab_type": "code",
    "colab": {}
   },
   "source": [
    "import pandas as pd"
   ],
   "execution_count": 11,
   "outputs": []
  },
  {
   "cell_type": "markdown",
   "metadata": {
    "id": "xEP6beuEGxun",
    "colab_type": "text"
   },
   "source": [
    "## Data Exploration"
   ]
  },
  {
   "cell_type": "markdown",
   "metadata": {
    "id": "w3Q75B4CGxun",
    "colab_type": "text"
   },
   "source": [
    "**Challenge**: Read the .csv file and store it in a Pandas dataframe"
   ]
  },
  {
   "cell_type": "code",
   "metadata": {
    "id": "Bm7hQtEGIiri",
    "colab_type": "code",
    "colab": {}
   },
   "source": [
    "df = pd.read_csv(\"QueryResults.csv\", names=[\"Date\", \"Language\", \"Post Count\"])\n",
    "df"
   ],
   "execution_count": 12,
   "outputs": [
    {
     "data": {
      "text/plain": "                     Date  Language  Post Count\n0                       m   TagName         NaN\n1     2008-07-01 00:00:00        c#         3.0\n2     2008-08-01 00:00:00  assembly         8.0\n3     2008-08-01 00:00:00         c        83.0\n4     2008-08-01 00:00:00        c#       505.0\n...                   ...       ...         ...\n2506  2023-08-01 00:00:00       php      1940.0\n2507  2023-08-01 00:00:00    python     10861.0\n2508  2023-08-01 00:00:00         r      2407.0\n2509  2023-08-01 00:00:00      ruby       212.0\n2510  2023-08-01 00:00:00     swift      1033.0\n\n[2511 rows x 3 columns]",
      "text/html": "<div>\n<style scoped>\n    .dataframe tbody tr th:only-of-type {\n        vertical-align: middle;\n    }\n\n    .dataframe tbody tr th {\n        vertical-align: top;\n    }\n\n    .dataframe thead th {\n        text-align: right;\n    }\n</style>\n<table border=\"1\" class=\"dataframe\">\n  <thead>\n    <tr style=\"text-align: right;\">\n      <th></th>\n      <th>Date</th>\n      <th>Language</th>\n      <th>Post Count</th>\n    </tr>\n  </thead>\n  <tbody>\n    <tr>\n      <th>0</th>\n      <td>m</td>\n      <td>TagName</td>\n      <td>NaN</td>\n    </tr>\n    <tr>\n      <th>1</th>\n      <td>2008-07-01 00:00:00</td>\n      <td>c#</td>\n      <td>3.0</td>\n    </tr>\n    <tr>\n      <th>2</th>\n      <td>2008-08-01 00:00:00</td>\n      <td>assembly</td>\n      <td>8.0</td>\n    </tr>\n    <tr>\n      <th>3</th>\n      <td>2008-08-01 00:00:00</td>\n      <td>c</td>\n      <td>83.0</td>\n    </tr>\n    <tr>\n      <th>4</th>\n      <td>2008-08-01 00:00:00</td>\n      <td>c#</td>\n      <td>505.0</td>\n    </tr>\n    <tr>\n      <th>...</th>\n      <td>...</td>\n      <td>...</td>\n      <td>...</td>\n    </tr>\n    <tr>\n      <th>2506</th>\n      <td>2023-08-01 00:00:00</td>\n      <td>php</td>\n      <td>1940.0</td>\n    </tr>\n    <tr>\n      <th>2507</th>\n      <td>2023-08-01 00:00:00</td>\n      <td>python</td>\n      <td>10861.0</td>\n    </tr>\n    <tr>\n      <th>2508</th>\n      <td>2023-08-01 00:00:00</td>\n      <td>r</td>\n      <td>2407.0</td>\n    </tr>\n    <tr>\n      <th>2509</th>\n      <td>2023-08-01 00:00:00</td>\n      <td>ruby</td>\n      <td>212.0</td>\n    </tr>\n    <tr>\n      <th>2510</th>\n      <td>2023-08-01 00:00:00</td>\n      <td>swift</td>\n      <td>1033.0</td>\n    </tr>\n  </tbody>\n</table>\n<p>2511 rows × 3 columns</p>\n</div>"
     },
     "execution_count": 12,
     "metadata": {},
     "output_type": "execute_result"
    }
   ]
  },
  {
   "cell_type": "markdown",
   "metadata": {
    "id": "x2WnDM75Gxup",
    "colab_type": "text"
   },
   "source": [
    "**Challenge**: Examine the first 5 rows and the last 5 rows of the dataframe"
   ]
  },
  {
   "cell_type": "code",
   "metadata": {
    "id": "50oqpUxVIiJf",
    "colab_type": "code",
    "colab": {}
   },
   "source": [
    "clean_df = df.dropna()\n",
    "clean_df.tail()"
   ],
   "execution_count": 25,
   "outputs": [
    {
     "data": {
      "text/plain": "                     Date Language  Post Count\n2506  2023-08-01 00:00:00      php      1940.0\n2507  2023-08-01 00:00:00   python     10861.0\n2508  2023-08-01 00:00:00        r      2407.0\n2509  2023-08-01 00:00:00     ruby       212.0\n2510  2023-08-01 00:00:00    swift      1033.0",
      "text/html": "<div>\n<style scoped>\n    .dataframe tbody tr th:only-of-type {\n        vertical-align: middle;\n    }\n\n    .dataframe tbody tr th {\n        vertical-align: top;\n    }\n\n    .dataframe thead th {\n        text-align: right;\n    }\n</style>\n<table border=\"1\" class=\"dataframe\">\n  <thead>\n    <tr style=\"text-align: right;\">\n      <th></th>\n      <th>Date</th>\n      <th>Language</th>\n      <th>Post Count</th>\n    </tr>\n  </thead>\n  <tbody>\n    <tr>\n      <th>2506</th>\n      <td>2023-08-01 00:00:00</td>\n      <td>php</td>\n      <td>1940.0</td>\n    </tr>\n    <tr>\n      <th>2507</th>\n      <td>2023-08-01 00:00:00</td>\n      <td>python</td>\n      <td>10861.0</td>\n    </tr>\n    <tr>\n      <th>2508</th>\n      <td>2023-08-01 00:00:00</td>\n      <td>r</td>\n      <td>2407.0</td>\n    </tr>\n    <tr>\n      <th>2509</th>\n      <td>2023-08-01 00:00:00</td>\n      <td>ruby</td>\n      <td>212.0</td>\n    </tr>\n    <tr>\n      <th>2510</th>\n      <td>2023-08-01 00:00:00</td>\n      <td>swift</td>\n      <td>1033.0</td>\n    </tr>\n  </tbody>\n</table>\n</div>"
     },
     "execution_count": 25,
     "metadata": {},
     "output_type": "execute_result"
    }
   ]
  },
  {
   "cell_type": "markdown",
   "metadata": {
    "id": "0o9hvVgyGxus",
    "colab_type": "text"
   },
   "source": [
    "**Challenge:** Check how many rows and how many columns there are. \n",
    "What are the dimensions of the dataframe?"
   ]
  },
  {
   "cell_type": "code",
   "metadata": {
    "id": "ZUidjCPFIho8",
    "colab_type": "code",
    "colab": {}
   },
   "source": [
    "clean_df.shape"
   ],
   "execution_count": 26,
   "outputs": [
    {
     "data": {
      "text/plain": "(2510, 3)"
     },
     "execution_count": 26,
     "metadata": {},
     "output_type": "execute_result"
    }
   ]
  },
  {
   "cell_type": "markdown",
   "metadata": {
    "id": "ybZkNLmxGxuu",
    "colab_type": "text"
   },
   "source": [
    "**Challenge**: Count the number of entries in each column of the dataframe"
   ]
  },
  {
   "cell_type": "code",
   "metadata": {
    "id": "Sc1dmmOoIg2g",
    "colab_type": "code",
    "colab": {}
   },
   "source": [
    "clean_df.count()"
   ],
   "execution_count": 28,
   "outputs": [
    {
     "data": {
      "text/plain": "Date          2510\nLanguage      2510\nPost Count    2510\ndtype: int64"
     },
     "execution_count": 28,
     "metadata": {},
     "output_type": "execute_result"
    }
   ]
  },
  {
   "cell_type": "markdown",
   "metadata": {
    "id": "hlnfFsscGxuw",
    "colab_type": "text"
   },
   "source": [
    "**Challenge**: Calculate the total number of post per language.\n",
    "Which Programming language has had the highest total number of posts of all time?"
   ]
  },
  {
   "cell_type": "code",
   "metadata": {
    "id": "9-NYFONcIc1X",
    "colab_type": "code",
    "colab": {}
   },
   "source": [
    "aggregated_df = clean_df.groupby(\"Language\")\n",
    "aggregated_df.sum()"
   ],
   "execution_count": 36,
   "outputs": [
    {
     "data": {
      "text/plain": "            Post Count\nLanguage              \nassembly       43193.0\nc             398744.0\nc#           1600155.0\nc++           798073.0\ndelphi         51181.0\ngo             70522.0\njava         1904287.0\njavascript   2507957.0\nperl           67804.0\nphp          1460681.0\npython       2157668.0\nr             495981.0\nruby          228327.0\nswift         329545.0",
      "text/html": "<div>\n<style scoped>\n    .dataframe tbody tr th:only-of-type {\n        vertical-align: middle;\n    }\n\n    .dataframe tbody tr th {\n        vertical-align: top;\n    }\n\n    .dataframe thead th {\n        text-align: right;\n    }\n</style>\n<table border=\"1\" class=\"dataframe\">\n  <thead>\n    <tr style=\"text-align: right;\">\n      <th></th>\n      <th>Post Count</th>\n    </tr>\n    <tr>\n      <th>Language</th>\n      <th></th>\n    </tr>\n  </thead>\n  <tbody>\n    <tr>\n      <th>assembly</th>\n      <td>43193.0</td>\n    </tr>\n    <tr>\n      <th>c</th>\n      <td>398744.0</td>\n    </tr>\n    <tr>\n      <th>c#</th>\n      <td>1600155.0</td>\n    </tr>\n    <tr>\n      <th>c++</th>\n      <td>798073.0</td>\n    </tr>\n    <tr>\n      <th>delphi</th>\n      <td>51181.0</td>\n    </tr>\n    <tr>\n      <th>go</th>\n      <td>70522.0</td>\n    </tr>\n    <tr>\n      <th>java</th>\n      <td>1904287.0</td>\n    </tr>\n    <tr>\n      <th>javascript</th>\n      <td>2507957.0</td>\n    </tr>\n    <tr>\n      <th>perl</th>\n      <td>67804.0</td>\n    </tr>\n    <tr>\n      <th>php</th>\n      <td>1460681.0</td>\n    </tr>\n    <tr>\n      <th>python</th>\n      <td>2157668.0</td>\n    </tr>\n    <tr>\n      <th>r</th>\n      <td>495981.0</td>\n    </tr>\n    <tr>\n      <th>ruby</th>\n      <td>228327.0</td>\n    </tr>\n    <tr>\n      <th>swift</th>\n      <td>329545.0</td>\n    </tr>\n  </tbody>\n</table>\n</div>"
     },
     "execution_count": 36,
     "metadata": {},
     "output_type": "execute_result"
    }
   ]
  },
  {
   "cell_type": "markdown",
   "metadata": {
    "id": "iVCesB49Gxuz",
    "colab_type": "text"
   },
   "source": [
    "Some languages are older (e.g., C) and other languages are newer (e.g., Swift). The dataset starts in September 2008.\n",
    "\n",
    "**Challenge**: How many months of data exist per language? Which language had the fewest months with an entry? \n"
   ]
  },
  {
   "cell_type": "code",
   "metadata": {
    "id": "hDT4JlJNJfgQ",
    "colab_type": "code",
    "colab": {}
   },
   "source": [
    "aggregated_df.count()"
   ],
   "execution_count": 37,
   "outputs": [
    {
     "data": {
      "text/plain": "            Date  Post Count\nLanguage                    \nassembly     181         181\nc            181         181\nc#           182         182\nc++          181         181\ndelphi       181         181\ngo           166         166\njava         181         181\njavascript   181         181\nperl         181         181\nphp          181         181\npython       181         181\nr            179         179\nruby         181         181\nswift        173         173",
      "text/html": "<div>\n<style scoped>\n    .dataframe tbody tr th:only-of-type {\n        vertical-align: middle;\n    }\n\n    .dataframe tbody tr th {\n        vertical-align: top;\n    }\n\n    .dataframe thead th {\n        text-align: right;\n    }\n</style>\n<table border=\"1\" class=\"dataframe\">\n  <thead>\n    <tr style=\"text-align: right;\">\n      <th></th>\n      <th>Date</th>\n      <th>Post Count</th>\n    </tr>\n    <tr>\n      <th>Language</th>\n      <th></th>\n      <th></th>\n    </tr>\n  </thead>\n  <tbody>\n    <tr>\n      <th>assembly</th>\n      <td>181</td>\n      <td>181</td>\n    </tr>\n    <tr>\n      <th>c</th>\n      <td>181</td>\n      <td>181</td>\n    </tr>\n    <tr>\n      <th>c#</th>\n      <td>182</td>\n      <td>182</td>\n    </tr>\n    <tr>\n      <th>c++</th>\n      <td>181</td>\n      <td>181</td>\n    </tr>\n    <tr>\n      <th>delphi</th>\n      <td>181</td>\n      <td>181</td>\n    </tr>\n    <tr>\n      <th>go</th>\n      <td>166</td>\n      <td>166</td>\n    </tr>\n    <tr>\n      <th>java</th>\n      <td>181</td>\n      <td>181</td>\n    </tr>\n    <tr>\n      <th>javascript</th>\n      <td>181</td>\n      <td>181</td>\n    </tr>\n    <tr>\n      <th>perl</th>\n      <td>181</td>\n      <td>181</td>\n    </tr>\n    <tr>\n      <th>php</th>\n      <td>181</td>\n      <td>181</td>\n    </tr>\n    <tr>\n      <th>python</th>\n      <td>181</td>\n      <td>181</td>\n    </tr>\n    <tr>\n      <th>r</th>\n      <td>179</td>\n      <td>179</td>\n    </tr>\n    <tr>\n      <th>ruby</th>\n      <td>181</td>\n      <td>181</td>\n    </tr>\n    <tr>\n      <th>swift</th>\n      <td>173</td>\n      <td>173</td>\n    </tr>\n  </tbody>\n</table>\n</div>"
     },
     "execution_count": 37,
     "metadata": {},
     "output_type": "execute_result"
    }
   ]
  },
  {
   "cell_type": "markdown",
   "metadata": {
    "id": "arguGp3ZGxu1",
    "colab_type": "text"
   },
   "source": [
    "## Data Cleaning\n",
    "\n",
    "Let's fix the date format to make it more readable. We need to use Pandas to change format from a string of \"2008-07-01 00:00:00\" to a datetime object with the format of \"2008-07-01\""
   ]
  },
  {
   "cell_type": "code",
   "metadata": {
    "id": "5nh5a4UtGxu1",
    "colab_type": "code",
    "colab": {}
   },
   "source": [
    "clean_df[\"Date\"] = pd.to_datetime(clean_df[\"Date\"])\n",
    "clean_df.head()"
   ],
   "execution_count": 38,
   "outputs": [
    {
     "name": "stderr",
     "output_type": "stream",
     "text": [
      "C:\\Users\\Igor\\AppData\\Local\\Temp\\ipykernel_3496\\2268027453.py:1: SettingWithCopyWarning: \n",
      "A value is trying to be set on a copy of a slice from a DataFrame.\n",
      "Try using .loc[row_indexer,col_indexer] = value instead\n",
      "\n",
      "See the caveats in the documentation: https://pandas.pydata.org/pandas-docs/stable/user_guide/indexing.html#returning-a-view-versus-a-copy\n",
      "  clean_df[\"Date\"] = pd.to_datetime(clean_df[\"Date\"])\n"
     ]
    },
    {
     "data": {
      "text/plain": "        Date  Language  Post Count\n1 2008-07-01        c#         3.0\n2 2008-08-01  assembly         8.0\n3 2008-08-01         c        83.0\n4 2008-08-01        c#       505.0\n5 2008-08-01       c++       164.0",
      "text/html": "<div>\n<style scoped>\n    .dataframe tbody tr th:only-of-type {\n        vertical-align: middle;\n    }\n\n    .dataframe tbody tr th {\n        vertical-align: top;\n    }\n\n    .dataframe thead th {\n        text-align: right;\n    }\n</style>\n<table border=\"1\" class=\"dataframe\">\n  <thead>\n    <tr style=\"text-align: right;\">\n      <th></th>\n      <th>Date</th>\n      <th>Language</th>\n      <th>Post Count</th>\n    </tr>\n  </thead>\n  <tbody>\n    <tr>\n      <th>1</th>\n      <td>2008-07-01</td>\n      <td>c#</td>\n      <td>3.0</td>\n    </tr>\n    <tr>\n      <th>2</th>\n      <td>2008-08-01</td>\n      <td>assembly</td>\n      <td>8.0</td>\n    </tr>\n    <tr>\n      <th>3</th>\n      <td>2008-08-01</td>\n      <td>c</td>\n      <td>83.0</td>\n    </tr>\n    <tr>\n      <th>4</th>\n      <td>2008-08-01</td>\n      <td>c#</td>\n      <td>505.0</td>\n    </tr>\n    <tr>\n      <th>5</th>\n      <td>2008-08-01</td>\n      <td>c++</td>\n      <td>164.0</td>\n    </tr>\n  </tbody>\n</table>\n</div>"
     },
     "execution_count": 38,
     "metadata": {},
     "output_type": "execute_result"
    }
   ]
  },
  {
   "cell_type": "code",
   "metadata": {
    "id": "016H-Fy4Gxu3",
    "colab_type": "code",
    "colab": {}
   },
   "source": [],
   "execution_count": 5,
   "outputs": []
  },
  {
   "cell_type": "code",
   "metadata": {
    "id": "4EiSd7pdGxu5",
    "colab_type": "code",
    "colab": {}
   },
   "source": [],
   "execution_count": 5,
   "outputs": []
  },
  {
   "cell_type": "markdown",
   "metadata": {
    "id": "rWAV6tuzGxu6",
    "colab_type": "text"
   },
   "source": [
    "## Data Manipulation\n",
    "\n"
   ]
  },
  {
   "cell_type": "code",
   "metadata": {
    "id": "aHhbulJaGxu7",
    "colab_type": "code",
    "colab": {}
   },
   "source": [],
   "execution_count": 5,
   "outputs": []
  },
  {
   "cell_type": "markdown",
   "metadata": {
    "id": "RWKcVIyFKwHM",
    "colab_type": "text"
   },
   "source": [
    "**Challenge**: What are the dimensions of our new dataframe? How many rows and columns does it have? Print out the column names and print out the first 5 rows of the dataframe."
   ]
  },
  {
   "cell_type": "code",
   "metadata": {
    "id": "v-u4FcLXGxu9",
    "colab_type": "code",
    "colab": {}
   },
   "source": [],
   "execution_count": 5,
   "outputs": []
  },
  {
   "cell_type": "code",
   "metadata": {
    "id": "NUyBcaMMGxu-",
    "colab_type": "code",
    "colab": {}
   },
   "source": [],
   "execution_count": 5,
   "outputs": []
  },
  {
   "cell_type": "code",
   "metadata": {
    "id": "LnUIOL3LGxvA",
    "colab_type": "code",
    "colab": {}
   },
   "source": [],
   "execution_count": 5,
   "outputs": []
  },
  {
   "cell_type": "markdown",
   "metadata": {
    "id": "BoDCuRU0GxvC",
    "colab_type": "text"
   },
   "source": [
    "**Challenge**: Count the number of entries per programming language. Why might the number of entries be different? "
   ]
  },
  {
   "cell_type": "code",
   "metadata": {
    "id": "-peEFgaMGxvE",
    "colab_type": "code",
    "colab": {}
   },
   "source": [],
   "execution_count": 5,
   "outputs": []
  },
  {
   "cell_type": "code",
   "metadata": {
    "id": "01f2BCF8GxvG",
    "colab_type": "code",
    "colab": {}
   },
   "source": [],
   "execution_count": 5,
   "outputs": []
  },
  {
   "cell_type": "code",
   "metadata": {
    "id": "KooRRxAdGxvI",
    "colab_type": "code",
    "colab": {}
   },
   "source": [],
   "execution_count": 5,
   "outputs": []
  },
  {
   "cell_type": "markdown",
   "metadata": {
    "id": "8xU7l_f4GxvK",
    "colab_type": "text"
   },
   "source": [
    "## Data Visualisaton with with Matplotlib\n"
   ]
  },
  {
   "cell_type": "markdown",
   "metadata": {
    "id": "njnNXTlhGxvK",
    "colab_type": "text"
   },
   "source": [
    "**Challenge**: Use the [matplotlib documentation](https://matplotlib.org/3.2.1/api/_as_gen/matplotlib.pyplot.plot.html#matplotlib.pyplot.plot) to plot a single programming language (e.g., java) on a chart."
   ]
  },
  {
   "cell_type": "code",
   "metadata": {
    "id": "S0OS8T8iGxvL",
    "colab_type": "code",
    "colab": {}
   },
   "source": [],
   "execution_count": 5,
   "outputs": []
  },
  {
   "cell_type": "code",
   "metadata": {
    "id": "EU6AV1l9GxvM",
    "colab_type": "code",
    "colab": {}
   },
   "source": [],
   "execution_count": 5,
   "outputs": []
  },
  {
   "cell_type": "code",
   "metadata": {
    "id": "_Qzzg6b_GxvO",
    "colab_type": "code",
    "colab": {}
   },
   "source": [],
   "execution_count": 5,
   "outputs": []
  },
  {
   "cell_type": "markdown",
   "metadata": {
    "id": "Sm2DL5tZGxvQ",
    "colab_type": "text"
   },
   "source": [
    "**Challenge**: Show two line (e.g. for Java and Python) on the same chart."
   ]
  },
  {
   "cell_type": "code",
   "metadata": {
    "id": "T-0vClQSGxvQ",
    "colab_type": "code",
    "colab": {}
   },
   "source": [],
   "execution_count": 5,
   "outputs": []
  },
  {
   "cell_type": "markdown",
   "metadata": {
    "id": "3jSjfPy7GxvY",
    "colab_type": "text"
   },
   "source": [
    "# Smoothing out Time Series Data\n",
    "\n",
    "Time series data can be quite noisy, with a lot of up and down spikes. To better see a trend we can plot an average of, say 6 or 12 observations. This is called the rolling mean. We calculate the average in a window of time and move it forward by one overservation. Pandas has two handy methods already built in to work this out: [rolling()](https://pandas.pydata.org/pandas-docs/stable/reference/api/pandas.DataFrame.rolling.html) and [mean()](https://pandas.pydata.org/pandas-docs/stable/reference/api/pandas.core.window.rolling.Rolling.mean.html). "
   ]
  },
  {
   "cell_type": "code",
   "metadata": {
    "id": "s3WYd3OgGxvc",
    "colab_type": "code",
    "colab": {}
   },
   "source": [],
   "execution_count": null,
   "outputs": []
  },
  {
   "cell_type": "code",
   "metadata": {
    "id": "WMJOX8Y2Gxvd",
    "colab_type": "code",
    "colab": {}
   },
   "source": [],
   "execution_count": null,
   "outputs": []
  },
  {
   "cell_type": "code",
   "metadata": {
    "id": "fAvvarA7Gxvf",
    "colab_type": "code",
    "colab": {}
   },
   "source": [],
   "execution_count": null,
   "outputs": []
  },
  {
   "cell_type": "code",
   "metadata": {
    "id": "Gm0Ww0S4Gxvg",
    "colab_type": "code",
    "colab": {}
   },
   "source": [],
   "execution_count": null,
   "outputs": []
  }
 ]
}
