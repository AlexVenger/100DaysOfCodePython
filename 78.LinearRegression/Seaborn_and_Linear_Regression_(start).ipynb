{
 "nbformat": 4,
 "nbformat_minor": 0,
 "metadata": {
  "colab": {
   "name": "Seaborn and Linear Regression (start).ipynb",
   "provenance": []
  },
  "kernelspec": {
   "name": "python3",
   "display_name": "Python 3"
  }
 },
 "cells": [
  {
   "cell_type": "markdown",
   "metadata": {
    "id": "gltiGJhvrzaL"
   },
   "source": [
    "# Introduction\n",
    "\n",
    "Do higher film budgets lead to more box office revenue? Let's find out if there's a relationship using the movie budgets and financial performance data that I've scraped from [the-numbers.com](https://www.the-numbers.com/movie/budgets) on **May 1st, 2018**. \n",
    "\n",
    "<img src=https://i.imgur.com/kq7hrEh.png>"
   ]
  },
  {
   "cell_type": "markdown",
   "metadata": {
    "id": "zkLrvlKvtdih"
   },
   "source": [
    "# Import Statements"
   ]
  },
  {
   "cell_type": "code",
   "metadata": {
    "id": "NpDk_q_Urroj"
   },
   "source": [
    "import pandas as pd\n",
    "import matplotlib.pyplot as plt"
   ],
   "execution_count": 2,
   "outputs": []
  },
  {
   "cell_type": "markdown",
   "metadata": {
    "id": "x5B-UDvXtnC6"
   },
   "source": [
    "# Notebook Presentation"
   ]
  },
  {
   "cell_type": "code",
   "metadata": {
    "id": "nM_otvWztjpT"
   },
   "source": [
    "pd.options.display.float_format = '{:,.2f}'.format\n",
    "\n",
    "from pandas.plotting import register_matplotlib_converters\n",
    "register_matplotlib_converters()"
   ],
   "execution_count": 3,
   "outputs": []
  },
  {
   "cell_type": "markdown",
   "metadata": {
    "id": "v-fnwNYJtthe"
   },
   "source": [
    "# Read the Data"
   ]
  },
  {
   "cell_type": "code",
   "metadata": {
    "id": "xhwvQQWitrf4"
   },
   "source": [
    "data = pd.read_csv('cost_revenue_dirty.csv')"
   ],
   "execution_count": 4,
   "outputs": []
  },
  {
   "cell_type": "markdown",
   "metadata": {
    "id": "tbg8_J5SuHhs"
   },
   "source": [
    "# Explore and Clean the Data"
   ]
  },
  {
   "cell_type": "markdown",
   "metadata": {
    "id": "xAtdcURCuL0Z"
   },
   "source": [
    "**Challenge**: Answer these questions about the dataset:\n",
    "1. How many rows and columns does the dataset contain?\n",
    "2. Are there any NaN values present?\n",
    "3. Are there any duplicate rows?\n",
    "4. What are the data types of the columns?"
   ]
  },
  {
   "cell_type": "code",
   "execution_count": 5,
   "outputs": [
    {
     "data": {
      "text/plain": "      Rank Release_Date                     Movie_Title USD_Production_Budget  \\\n0     5293     8/2/1915           The Birth of a Nation              $110,000   \n1     5140     5/9/1916                     Intolerance              $385,907   \n2     5230   12/24/1916    20,000 Leagues Under the Sea              $200,000   \n3     5299    9/17/1920  Over the Hill to the Poorhouse              $100,000   \n4     5222     1/1/1925                  The Big Parade              $245,000   \n...    ...          ...                             ...                   ...   \n5386  2950    10/8/2018                             Meg           $15,000,000   \n5387   126   12/18/2018                         Aquaman          $160,000,000   \n5388    96   12/31/2020                     Singularity          $175,000,000   \n5389  1119   12/31/2020          Hannibal the Conqueror           $50,000,000   \n5390  2517   12/31/2020  Story of Bonnie and Clyde, The           $20,000,000   \n\n     USD_Worldwide_Gross USD_Domestic_Gross  \n0            $11,000,000        $10,000,000  \n1                     $0                 $0  \n2             $8,000,000         $8,000,000  \n3             $3,000,000         $3,000,000  \n4            $22,000,000        $11,000,000  \n...                  ...                ...  \n5386                  $0                 $0  \n5387                  $0                 $0  \n5388                  $0                 $0  \n5389                  $0                 $0  \n5390                  $0                 $0  \n\n[5391 rows x 6 columns]",
      "text/html": "<div>\n<style scoped>\n    .dataframe tbody tr th:only-of-type {\n        vertical-align: middle;\n    }\n\n    .dataframe tbody tr th {\n        vertical-align: top;\n    }\n\n    .dataframe thead th {\n        text-align: right;\n    }\n</style>\n<table border=\"1\" class=\"dataframe\">\n  <thead>\n    <tr style=\"text-align: right;\">\n      <th></th>\n      <th>Rank</th>\n      <th>Release_Date</th>\n      <th>Movie_Title</th>\n      <th>USD_Production_Budget</th>\n      <th>USD_Worldwide_Gross</th>\n      <th>USD_Domestic_Gross</th>\n    </tr>\n  </thead>\n  <tbody>\n    <tr>\n      <th>0</th>\n      <td>5293</td>\n      <td>8/2/1915</td>\n      <td>The Birth of a Nation</td>\n      <td>$110,000</td>\n      <td>$11,000,000</td>\n      <td>$10,000,000</td>\n    </tr>\n    <tr>\n      <th>1</th>\n      <td>5140</td>\n      <td>5/9/1916</td>\n      <td>Intolerance</td>\n      <td>$385,907</td>\n      <td>$0</td>\n      <td>$0</td>\n    </tr>\n    <tr>\n      <th>2</th>\n      <td>5230</td>\n      <td>12/24/1916</td>\n      <td>20,000 Leagues Under the Sea</td>\n      <td>$200,000</td>\n      <td>$8,000,000</td>\n      <td>$8,000,000</td>\n    </tr>\n    <tr>\n      <th>3</th>\n      <td>5299</td>\n      <td>9/17/1920</td>\n      <td>Over the Hill to the Poorhouse</td>\n      <td>$100,000</td>\n      <td>$3,000,000</td>\n      <td>$3,000,000</td>\n    </tr>\n    <tr>\n      <th>4</th>\n      <td>5222</td>\n      <td>1/1/1925</td>\n      <td>The Big Parade</td>\n      <td>$245,000</td>\n      <td>$22,000,000</td>\n      <td>$11,000,000</td>\n    </tr>\n    <tr>\n      <th>...</th>\n      <td>...</td>\n      <td>...</td>\n      <td>...</td>\n      <td>...</td>\n      <td>...</td>\n      <td>...</td>\n    </tr>\n    <tr>\n      <th>5386</th>\n      <td>2950</td>\n      <td>10/8/2018</td>\n      <td>Meg</td>\n      <td>$15,000,000</td>\n      <td>$0</td>\n      <td>$0</td>\n    </tr>\n    <tr>\n      <th>5387</th>\n      <td>126</td>\n      <td>12/18/2018</td>\n      <td>Aquaman</td>\n      <td>$160,000,000</td>\n      <td>$0</td>\n      <td>$0</td>\n    </tr>\n    <tr>\n      <th>5388</th>\n      <td>96</td>\n      <td>12/31/2020</td>\n      <td>Singularity</td>\n      <td>$175,000,000</td>\n      <td>$0</td>\n      <td>$0</td>\n    </tr>\n    <tr>\n      <th>5389</th>\n      <td>1119</td>\n      <td>12/31/2020</td>\n      <td>Hannibal the Conqueror</td>\n      <td>$50,000,000</td>\n      <td>$0</td>\n      <td>$0</td>\n    </tr>\n    <tr>\n      <th>5390</th>\n      <td>2517</td>\n      <td>12/31/2020</td>\n      <td>Story of Bonnie and Clyde, The</td>\n      <td>$20,000,000</td>\n      <td>$0</td>\n      <td>$0</td>\n    </tr>\n  </tbody>\n</table>\n<p>5391 rows × 6 columns</p>\n</div>"
     },
     "execution_count": 5,
     "metadata": {},
     "output_type": "execute_result"
    }
   ],
   "source": [
    "data"
   ],
   "metadata": {
    "collapsed": false
   }
  },
  {
   "cell_type": "code",
   "execution_count": 6,
   "outputs": [
    {
     "data": {
      "text/plain": "0"
     },
     "execution_count": 6,
     "metadata": {},
     "output_type": "execute_result"
    }
   ],
   "source": [
    "data.isna().values.sum()"
   ],
   "metadata": {
    "collapsed": false
   }
  },
  {
   "cell_type": "code",
   "execution_count": 7,
   "outputs": [
    {
     "data": {
      "text/plain": "0"
     },
     "execution_count": 7,
     "metadata": {},
     "output_type": "execute_result"
    }
   ],
   "source": [
    "data.duplicated().values.sum()"
   ],
   "metadata": {
    "collapsed": false
   }
  },
  {
   "cell_type": "code",
   "metadata": {
    "id": "PV3KLBSVTMDN"
   },
   "source": [
    "data.info()"
   ],
   "execution_count": 8,
   "outputs": [
    {
     "name": "stdout",
     "output_type": "stream",
     "text": [
      "<class 'pandas.core.frame.DataFrame'>\n",
      "RangeIndex: 5391 entries, 0 to 5390\n",
      "Data columns (total 6 columns):\n",
      " #   Column                 Non-Null Count  Dtype \n",
      "---  ------                 --------------  ----- \n",
      " 0   Rank                   5391 non-null   int64 \n",
      " 1   Release_Date           5391 non-null   object\n",
      " 2   Movie_Title            5391 non-null   object\n",
      " 3   USD_Production_Budget  5391 non-null   object\n",
      " 4   USD_Worldwide_Gross    5391 non-null   object\n",
      " 5   USD_Domestic_Gross     5391 non-null   object\n",
      "dtypes: int64(1), object(5)\n",
      "memory usage: 252.8+ KB\n"
     ]
    }
   ]
  },
  {
   "cell_type": "markdown",
   "metadata": {
    "id": "v8spadDNvpVG"
   },
   "source": [
    "### Data Type Conversions"
   ]
  },
  {
   "cell_type": "markdown",
   "metadata": {
    "id": "9F8KFST4ulrd"
   },
   "source": [
    "**Challenge**: Convert the `USD_Production_Budget`, `USD_Worldwide_Gross`, and `USD_Domestic_Gross` columns to a numeric format by removing `$` signs and `,`. \n",
    "<br>\n",
    "<br>\n",
    "Note that *domestic* in this context refers to the United States."
   ]
  },
  {
   "cell_type": "code",
   "metadata": {
    "id": "BmdCbLf-TPXk"
   },
   "source": [
    "data[\"USD_Production_Budget\"] = pd.to_numeric(data[\"USD_Production_Budget\"].astype(str).str.replace(\"$\", \"\").str.replace(\",\", \"\"))\n",
    "data[\"USD_Worldwide_Gross\"] = pd.to_numeric(data[\"USD_Worldwide_Gross\"].astype(str).str.replace(\"$\", \"\").str.replace(\",\", \"\"))\n",
    "data[\"USD_Domestic_Gross\"] = pd.to_numeric(data[\"USD_Domestic_Gross\"].astype(str).str.replace(\"$\", \"\").str.replace(\",\", \"\"))\n",
    "data"
   ],
   "execution_count": 9,
   "outputs": [
    {
     "data": {
      "text/plain": "      Rank Release_Date                     Movie_Title  \\\n0     5293     8/2/1915           The Birth of a Nation   \n1     5140     5/9/1916                     Intolerance   \n2     5230   12/24/1916    20,000 Leagues Under the Sea   \n3     5299    9/17/1920  Over the Hill to the Poorhouse   \n4     5222     1/1/1925                  The Big Parade   \n...    ...          ...                             ...   \n5386  2950    10/8/2018                             Meg   \n5387   126   12/18/2018                         Aquaman   \n5388    96   12/31/2020                     Singularity   \n5389  1119   12/31/2020          Hannibal the Conqueror   \n5390  2517   12/31/2020  Story of Bonnie and Clyde, The   \n\n      USD_Production_Budget  USD_Worldwide_Gross  USD_Domestic_Gross  \n0                    110000             11000000            10000000  \n1                    385907                    0                   0  \n2                    200000              8000000             8000000  \n3                    100000              3000000             3000000  \n4                    245000             22000000            11000000  \n...                     ...                  ...                 ...  \n5386               15000000                    0                   0  \n5387              160000000                    0                   0  \n5388              175000000                    0                   0  \n5389               50000000                    0                   0  \n5390               20000000                    0                   0  \n\n[5391 rows x 6 columns]",
      "text/html": "<div>\n<style scoped>\n    .dataframe tbody tr th:only-of-type {\n        vertical-align: middle;\n    }\n\n    .dataframe tbody tr th {\n        vertical-align: top;\n    }\n\n    .dataframe thead th {\n        text-align: right;\n    }\n</style>\n<table border=\"1\" class=\"dataframe\">\n  <thead>\n    <tr style=\"text-align: right;\">\n      <th></th>\n      <th>Rank</th>\n      <th>Release_Date</th>\n      <th>Movie_Title</th>\n      <th>USD_Production_Budget</th>\n      <th>USD_Worldwide_Gross</th>\n      <th>USD_Domestic_Gross</th>\n    </tr>\n  </thead>\n  <tbody>\n    <tr>\n      <th>0</th>\n      <td>5293</td>\n      <td>8/2/1915</td>\n      <td>The Birth of a Nation</td>\n      <td>110000</td>\n      <td>11000000</td>\n      <td>10000000</td>\n    </tr>\n    <tr>\n      <th>1</th>\n      <td>5140</td>\n      <td>5/9/1916</td>\n      <td>Intolerance</td>\n      <td>385907</td>\n      <td>0</td>\n      <td>0</td>\n    </tr>\n    <tr>\n      <th>2</th>\n      <td>5230</td>\n      <td>12/24/1916</td>\n      <td>20,000 Leagues Under the Sea</td>\n      <td>200000</td>\n      <td>8000000</td>\n      <td>8000000</td>\n    </tr>\n    <tr>\n      <th>3</th>\n      <td>5299</td>\n      <td>9/17/1920</td>\n      <td>Over the Hill to the Poorhouse</td>\n      <td>100000</td>\n      <td>3000000</td>\n      <td>3000000</td>\n    </tr>\n    <tr>\n      <th>4</th>\n      <td>5222</td>\n      <td>1/1/1925</td>\n      <td>The Big Parade</td>\n      <td>245000</td>\n      <td>22000000</td>\n      <td>11000000</td>\n    </tr>\n    <tr>\n      <th>...</th>\n      <td>...</td>\n      <td>...</td>\n      <td>...</td>\n      <td>...</td>\n      <td>...</td>\n      <td>...</td>\n    </tr>\n    <tr>\n      <th>5386</th>\n      <td>2950</td>\n      <td>10/8/2018</td>\n      <td>Meg</td>\n      <td>15000000</td>\n      <td>0</td>\n      <td>0</td>\n    </tr>\n    <tr>\n      <th>5387</th>\n      <td>126</td>\n      <td>12/18/2018</td>\n      <td>Aquaman</td>\n      <td>160000000</td>\n      <td>0</td>\n      <td>0</td>\n    </tr>\n    <tr>\n      <th>5388</th>\n      <td>96</td>\n      <td>12/31/2020</td>\n      <td>Singularity</td>\n      <td>175000000</td>\n      <td>0</td>\n      <td>0</td>\n    </tr>\n    <tr>\n      <th>5389</th>\n      <td>1119</td>\n      <td>12/31/2020</td>\n      <td>Hannibal the Conqueror</td>\n      <td>50000000</td>\n      <td>0</td>\n      <td>0</td>\n    </tr>\n    <tr>\n      <th>5390</th>\n      <td>2517</td>\n      <td>12/31/2020</td>\n      <td>Story of Bonnie and Clyde, The</td>\n      <td>20000000</td>\n      <td>0</td>\n      <td>0</td>\n    </tr>\n  </tbody>\n</table>\n<p>5391 rows × 6 columns</p>\n</div>"
     },
     "execution_count": 9,
     "metadata": {},
     "output_type": "execute_result"
    }
   ]
  },
  {
   "cell_type": "markdown",
   "metadata": {
    "id": "cA01iJHkvWhl"
   },
   "source": [
    "**Challenge**: Convert the `Release_Date` column to a Pandas Datetime type. "
   ]
  },
  {
   "cell_type": "code",
   "metadata": {
    "id": "Pq1WfvRnTRU6"
   },
   "source": [
    "data[\"Release_Date\"] = pd.to_datetime(data[\"Release_Date\"])\n",
    "data.info()"
   ],
   "execution_count": 10,
   "outputs": [
    {
     "name": "stdout",
     "output_type": "stream",
     "text": [
      "<class 'pandas.core.frame.DataFrame'>\n",
      "RangeIndex: 5391 entries, 0 to 5390\n",
      "Data columns (total 6 columns):\n",
      " #   Column                 Non-Null Count  Dtype         \n",
      "---  ------                 --------------  -----         \n",
      " 0   Rank                   5391 non-null   int64         \n",
      " 1   Release_Date           5391 non-null   datetime64[ns]\n",
      " 2   Movie_Title            5391 non-null   object        \n",
      " 3   USD_Production_Budget  5391 non-null   int64         \n",
      " 4   USD_Worldwide_Gross    5391 non-null   int64         \n",
      " 5   USD_Domestic_Gross     5391 non-null   int64         \n",
      "dtypes: datetime64[ns](1), int64(4), object(1)\n",
      "memory usage: 252.8+ KB\n"
     ]
    }
   ]
  },
  {
   "cell_type": "markdown",
   "metadata": {
    "id": "NkwmJO3tvt5i"
   },
   "source": [
    "### Descriptive Statistics"
   ]
  },
  {
   "cell_type": "markdown",
   "metadata": {
    "id": "bnb54thrvx5r"
   },
   "source": [
    "**Challenge**: \n",
    "\n",
    "1. What is the average production budget of the films in the data set?\n",
    "2. What is the average worldwide gross revenue of films?\n",
    "3. What were the minimums for worldwide and domestic revenue?\n",
    "4. Are the bottom 25% of films actually profitable or do they lose money?\n",
    "5. What are the highest production budget and highest worldwide gross revenue of any film?\n",
    "6. How much revenue did the lowest and highest budget films make?"
   ]
  },
  {
   "cell_type": "code",
   "metadata": {
    "id": "8G5_FATFTTtb"
   },
   "source": [
    "data.describe()"
   ],
   "execution_count": 12,
   "outputs": [
    {
     "data": {
      "text/plain": "          Rank                   Release_Date  USD_Production_Budget  \\\ncount 5,391.00                           5391               5,391.00   \nmean  2,696.00  2003-09-19 15:02:02.203672704          31,113,737.58   \nmin       1.00            1915-08-02 00:00:00               1,100.00   \n25%   1,348.50            1999-12-02 12:00:00           5,000,000.00   \n50%   2,696.00            2006-06-23 00:00:00          17,000,000.00   \n75%   4,043.50            2011-11-23 00:00:00          40,000,000.00   \nmax   5,391.00            2020-12-31 00:00:00         425,000,000.00   \nstd   1,556.39                            NaN          40,523,796.88   \n\n       USD_Worldwide_Gross  USD_Domestic_Gross  \ncount             5,391.00            5,391.00  \nmean         88,855,421.96       41,235,519.44  \nmin                   0.00                0.00  \n25%           3,865,206.00        1,330,901.50  \n50%          27,450,453.00       17,192,205.00  \n75%          96,454,455.00       52,343,687.00  \nmax       2,783,918,982.00      936,662,225.00  \nstd         168,457,757.00       66,029,346.27  ",
      "text/html": "<div>\n<style scoped>\n    .dataframe tbody tr th:only-of-type {\n        vertical-align: middle;\n    }\n\n    .dataframe tbody tr th {\n        vertical-align: top;\n    }\n\n    .dataframe thead th {\n        text-align: right;\n    }\n</style>\n<table border=\"1\" class=\"dataframe\">\n  <thead>\n    <tr style=\"text-align: right;\">\n      <th></th>\n      <th>Rank</th>\n      <th>Release_Date</th>\n      <th>USD_Production_Budget</th>\n      <th>USD_Worldwide_Gross</th>\n      <th>USD_Domestic_Gross</th>\n    </tr>\n  </thead>\n  <tbody>\n    <tr>\n      <th>count</th>\n      <td>5,391.00</td>\n      <td>5391</td>\n      <td>5,391.00</td>\n      <td>5,391.00</td>\n      <td>5,391.00</td>\n    </tr>\n    <tr>\n      <th>mean</th>\n      <td>2,696.00</td>\n      <td>2003-09-19 15:02:02.203672704</td>\n      <td>31,113,737.58</td>\n      <td>88,855,421.96</td>\n      <td>41,235,519.44</td>\n    </tr>\n    <tr>\n      <th>min</th>\n      <td>1.00</td>\n      <td>1915-08-02 00:00:00</td>\n      <td>1,100.00</td>\n      <td>0.00</td>\n      <td>0.00</td>\n    </tr>\n    <tr>\n      <th>25%</th>\n      <td>1,348.50</td>\n      <td>1999-12-02 12:00:00</td>\n      <td>5,000,000.00</td>\n      <td>3,865,206.00</td>\n      <td>1,330,901.50</td>\n    </tr>\n    <tr>\n      <th>50%</th>\n      <td>2,696.00</td>\n      <td>2006-06-23 00:00:00</td>\n      <td>17,000,000.00</td>\n      <td>27,450,453.00</td>\n      <td>17,192,205.00</td>\n    </tr>\n    <tr>\n      <th>75%</th>\n      <td>4,043.50</td>\n      <td>2011-11-23 00:00:00</td>\n      <td>40,000,000.00</td>\n      <td>96,454,455.00</td>\n      <td>52,343,687.00</td>\n    </tr>\n    <tr>\n      <th>max</th>\n      <td>5,391.00</td>\n      <td>2020-12-31 00:00:00</td>\n      <td>425,000,000.00</td>\n      <td>2,783,918,982.00</td>\n      <td>936,662,225.00</td>\n    </tr>\n    <tr>\n      <th>std</th>\n      <td>1,556.39</td>\n      <td>NaN</td>\n      <td>40,523,796.88</td>\n      <td>168,457,757.00</td>\n      <td>66,029,346.27</td>\n    </tr>\n  </tbody>\n</table>\n</div>"
     },
     "execution_count": 12,
     "metadata": {},
     "output_type": "execute_result"
    }
   ]
  },
  {
   "cell_type": "markdown",
   "metadata": {
    "id": "Cj-ug32JyEhp"
   },
   "source": [
    "# Investigating the Zero Revenue Films"
   ]
  },
  {
   "cell_type": "markdown",
   "metadata": {
    "id": "U9hm-pb4xTjY"
   },
   "source": [
    "**Challenge** How many films grossed $0 domestically (i.e., in the United States)? What were the highest budget films that grossed nothing?"
   ]
  },
  {
   "cell_type": "code",
   "metadata": {
    "id": "MXuRYdy0TWkt"
   },
   "source": [
    "data.loc[data[\"USD_Domestic_Gross\"] == 0].sort_values(\"USD_Production_Budget\", ascending=True)"
   ],
   "execution_count": 14,
   "outputs": [
    {
     "data": {
      "text/plain": "      Rank Release_Date                         Movie_Title  \\\n5007  5390   2015-09-29                A Plague So Pleasant   \n5006  5389   2015-09-29             Signed Sealed Delivered   \n4907  5381   2015-05-19                    Family Motocross   \n3056  5374   2007-12-31                         Tin Can Man   \n4787  5371   2014-12-31                Stories of Our Lives   \n...    ...          ...                                 ...   \n5090   556   2015-12-31  Don Gato, el inicio de la pandilla   \n5385   366   2018-10-08                      Amusement Park   \n5384   321   2018-09-03                   A Wrinkle in Time   \n5387   126   2018-12-18                             Aquaman   \n5388    96   2020-12-31                         Singularity   \n\n      USD_Production_Budget  USD_Worldwide_Gross  USD_Domestic_Gross  \n5007                   1400                    0                   0  \n5006                   5000                    0                   0  \n4907                  10000                    0                   0  \n3056                  12000                    0                   0  \n4787                  15000                    0                   0  \n...                     ...                  ...                 ...  \n5090               80000000              4547660                   0  \n5385              100000000                    0                   0  \n5384              103000000                    0                   0  \n5387              160000000                    0                   0  \n5388              175000000                    0                   0  \n\n[512 rows x 6 columns]",
      "text/html": "<div>\n<style scoped>\n    .dataframe tbody tr th:only-of-type {\n        vertical-align: middle;\n    }\n\n    .dataframe tbody tr th {\n        vertical-align: top;\n    }\n\n    .dataframe thead th {\n        text-align: right;\n    }\n</style>\n<table border=\"1\" class=\"dataframe\">\n  <thead>\n    <tr style=\"text-align: right;\">\n      <th></th>\n      <th>Rank</th>\n      <th>Release_Date</th>\n      <th>Movie_Title</th>\n      <th>USD_Production_Budget</th>\n      <th>USD_Worldwide_Gross</th>\n      <th>USD_Domestic_Gross</th>\n    </tr>\n  </thead>\n  <tbody>\n    <tr>\n      <th>5007</th>\n      <td>5390</td>\n      <td>2015-09-29</td>\n      <td>A Plague So Pleasant</td>\n      <td>1400</td>\n      <td>0</td>\n      <td>0</td>\n    </tr>\n    <tr>\n      <th>5006</th>\n      <td>5389</td>\n      <td>2015-09-29</td>\n      <td>Signed Sealed Delivered</td>\n      <td>5000</td>\n      <td>0</td>\n      <td>0</td>\n    </tr>\n    <tr>\n      <th>4907</th>\n      <td>5381</td>\n      <td>2015-05-19</td>\n      <td>Family Motocross</td>\n      <td>10000</td>\n      <td>0</td>\n      <td>0</td>\n    </tr>\n    <tr>\n      <th>3056</th>\n      <td>5374</td>\n      <td>2007-12-31</td>\n      <td>Tin Can Man</td>\n      <td>12000</td>\n      <td>0</td>\n      <td>0</td>\n    </tr>\n    <tr>\n      <th>4787</th>\n      <td>5371</td>\n      <td>2014-12-31</td>\n      <td>Stories of Our Lives</td>\n      <td>15000</td>\n      <td>0</td>\n      <td>0</td>\n    </tr>\n    <tr>\n      <th>...</th>\n      <td>...</td>\n      <td>...</td>\n      <td>...</td>\n      <td>...</td>\n      <td>...</td>\n      <td>...</td>\n    </tr>\n    <tr>\n      <th>5090</th>\n      <td>556</td>\n      <td>2015-12-31</td>\n      <td>Don Gato, el inicio de la pandilla</td>\n      <td>80000000</td>\n      <td>4547660</td>\n      <td>0</td>\n    </tr>\n    <tr>\n      <th>5385</th>\n      <td>366</td>\n      <td>2018-10-08</td>\n      <td>Amusement Park</td>\n      <td>100000000</td>\n      <td>0</td>\n      <td>0</td>\n    </tr>\n    <tr>\n      <th>5384</th>\n      <td>321</td>\n      <td>2018-09-03</td>\n      <td>A Wrinkle in Time</td>\n      <td>103000000</td>\n      <td>0</td>\n      <td>0</td>\n    </tr>\n    <tr>\n      <th>5387</th>\n      <td>126</td>\n      <td>2018-12-18</td>\n      <td>Aquaman</td>\n      <td>160000000</td>\n      <td>0</td>\n      <td>0</td>\n    </tr>\n    <tr>\n      <th>5388</th>\n      <td>96</td>\n      <td>2020-12-31</td>\n      <td>Singularity</td>\n      <td>175000000</td>\n      <td>0</td>\n      <td>0</td>\n    </tr>\n  </tbody>\n</table>\n<p>512 rows × 6 columns</p>\n</div>"
     },
     "execution_count": 14,
     "metadata": {},
     "output_type": "execute_result"
    }
   ]
  },
  {
   "cell_type": "markdown",
   "metadata": {
    "id": "mY8SAwI0x73b"
   },
   "source": [
    "**Challenge**: How many films grossed $0 worldwide? What are the highest budget films that had no revenue internationally?"
   ]
  },
  {
   "cell_type": "code",
   "metadata": {
    "id": "VpfocexxTXym"
   },
   "source": [
    "data.loc[data[\"USD_Worldwide_Gross\"] == 0].sort_values(\"USD_Production_Budget\", ascending=True)"
   ],
   "execution_count": 15,
   "outputs": [
    {
     "data": {
      "text/plain": "      Rank Release_Date              Movie_Title  USD_Production_Budget  \\\n5007  5390   2015-09-29     A Plague So Pleasant                   1400   \n5006  5389   2015-09-29  Signed Sealed Delivered                   5000   \n4907  5381   2015-05-19         Family Motocross                  10000   \n3056  5374   2007-12-31              Tin Can Man                  12000   \n4787  5371   2014-12-31     Stories of Our Lives                  15000   \n...    ...          ...                      ...                    ...   \n5058   880   2015-11-12         The Ridiculous 6               60000000   \n5385   366   2018-10-08           Amusement Park              100000000   \n5384   321   2018-09-03        A Wrinkle in Time              103000000   \n5387   126   2018-12-18                  Aquaman              160000000   \n5388    96   2020-12-31              Singularity              175000000   \n\n      USD_Worldwide_Gross  USD_Domestic_Gross  \n5007                    0                   0  \n5006                    0                   0  \n4907                    0                   0  \n3056                    0                   0  \n4787                    0                   0  \n...                   ...                 ...  \n5058                    0                   0  \n5385                    0                   0  \n5384                    0                   0  \n5387                    0                   0  \n5388                    0                   0  \n\n[357 rows x 6 columns]",
      "text/html": "<div>\n<style scoped>\n    .dataframe tbody tr th:only-of-type {\n        vertical-align: middle;\n    }\n\n    .dataframe tbody tr th {\n        vertical-align: top;\n    }\n\n    .dataframe thead th {\n        text-align: right;\n    }\n</style>\n<table border=\"1\" class=\"dataframe\">\n  <thead>\n    <tr style=\"text-align: right;\">\n      <th></th>\n      <th>Rank</th>\n      <th>Release_Date</th>\n      <th>Movie_Title</th>\n      <th>USD_Production_Budget</th>\n      <th>USD_Worldwide_Gross</th>\n      <th>USD_Domestic_Gross</th>\n    </tr>\n  </thead>\n  <tbody>\n    <tr>\n      <th>5007</th>\n      <td>5390</td>\n      <td>2015-09-29</td>\n      <td>A Plague So Pleasant</td>\n      <td>1400</td>\n      <td>0</td>\n      <td>0</td>\n    </tr>\n    <tr>\n      <th>5006</th>\n      <td>5389</td>\n      <td>2015-09-29</td>\n      <td>Signed Sealed Delivered</td>\n      <td>5000</td>\n      <td>0</td>\n      <td>0</td>\n    </tr>\n    <tr>\n      <th>4907</th>\n      <td>5381</td>\n      <td>2015-05-19</td>\n      <td>Family Motocross</td>\n      <td>10000</td>\n      <td>0</td>\n      <td>0</td>\n    </tr>\n    <tr>\n      <th>3056</th>\n      <td>5374</td>\n      <td>2007-12-31</td>\n      <td>Tin Can Man</td>\n      <td>12000</td>\n      <td>0</td>\n      <td>0</td>\n    </tr>\n    <tr>\n      <th>4787</th>\n      <td>5371</td>\n      <td>2014-12-31</td>\n      <td>Stories of Our Lives</td>\n      <td>15000</td>\n      <td>0</td>\n      <td>0</td>\n    </tr>\n    <tr>\n      <th>...</th>\n      <td>...</td>\n      <td>...</td>\n      <td>...</td>\n      <td>...</td>\n      <td>...</td>\n      <td>...</td>\n    </tr>\n    <tr>\n      <th>5058</th>\n      <td>880</td>\n      <td>2015-11-12</td>\n      <td>The Ridiculous 6</td>\n      <td>60000000</td>\n      <td>0</td>\n      <td>0</td>\n    </tr>\n    <tr>\n      <th>5385</th>\n      <td>366</td>\n      <td>2018-10-08</td>\n      <td>Amusement Park</td>\n      <td>100000000</td>\n      <td>0</td>\n      <td>0</td>\n    </tr>\n    <tr>\n      <th>5384</th>\n      <td>321</td>\n      <td>2018-09-03</td>\n      <td>A Wrinkle in Time</td>\n      <td>103000000</td>\n      <td>0</td>\n      <td>0</td>\n    </tr>\n    <tr>\n      <th>5387</th>\n      <td>126</td>\n      <td>2018-12-18</td>\n      <td>Aquaman</td>\n      <td>160000000</td>\n      <td>0</td>\n      <td>0</td>\n    </tr>\n    <tr>\n      <th>5388</th>\n      <td>96</td>\n      <td>2020-12-31</td>\n      <td>Singularity</td>\n      <td>175000000</td>\n      <td>0</td>\n      <td>0</td>\n    </tr>\n  </tbody>\n</table>\n<p>357 rows × 6 columns</p>\n</div>"
     },
     "execution_count": 15,
     "metadata": {},
     "output_type": "execute_result"
    }
   ]
  },
  {
   "cell_type": "markdown",
   "metadata": {
    "id": "eXUDzWpeyV2f"
   },
   "source": [
    "### Filtering on Multiple Conditions"
   ]
  },
  {
   "cell_type": "markdown",
   "metadata": {
    "id": "YruPjqLVPuiB"
   },
   "source": [
    "**Challenge**: Use the [`.query()` function](https://pandas.pydata.org/pandas-docs/stable/reference/api/pandas.DataFrame.query.html) to accomplish the same thing. Create a subset for international releases that had some worldwide gross revenue, but made zero revenue in the United States. \n",
    "\n",
    "Hint: This time you'll have to use the `and` keyword."
   ]
  },
  {
   "cell_type": "code",
   "metadata": {
    "id": "Xvu-jTCwTavg"
   },
   "source": [
    "zero_domestic_data = data.query(expr=\"USD_Worldwide_Gross > 0 and USD_Domestic_Gross == 0\")\n",
    "zero_domestic_data"
   ],
   "execution_count": 21,
   "outputs": [
    {
     "data": {
      "text/plain": "      Rank Release_Date              Movie_Title  USD_Production_Budget  \\\n71    4310   1956-02-16                 Carousel                3380000   \n1579  5087   2001-02-11  Everything Put Together                 500000   \n1744  3695   2001-12-31                 The Hole                7500000   \n2155  4236   2003-12-31                  Nothing                4000000   \n2203  2513   2004-03-31                The Touch               20000000   \n...    ...          ...                      ...                    ...   \n5340  1506   2017-04-14      Queen of the Desert               36000000   \n5348  2225   2017-05-05        Chāi dàn zhuānjiā               23000000   \n5360  4832   2017-07-03                Departure                1100000   \n5372  1856   2017-08-25                Ballerina               30000000   \n5374  4237   2017-08-25     Polina danser sa vie                4000000   \n\n      USD_Worldwide_Gross  USD_Domestic_Gross  \n71                   3220                   0  \n1579                 7890                   0  \n1744             10834406                   0  \n2155                63180                   0  \n2203              5918742                   0  \n...                   ...                 ...  \n5340              1480089                   0  \n5348             58807172                   0  \n5360                27561                   0  \n5372             48048527                   0  \n5374                36630                   0  \n\n[155 rows x 6 columns]",
      "text/html": "<div>\n<style scoped>\n    .dataframe tbody tr th:only-of-type {\n        vertical-align: middle;\n    }\n\n    .dataframe tbody tr th {\n        vertical-align: top;\n    }\n\n    .dataframe thead th {\n        text-align: right;\n    }\n</style>\n<table border=\"1\" class=\"dataframe\">\n  <thead>\n    <tr style=\"text-align: right;\">\n      <th></th>\n      <th>Rank</th>\n      <th>Release_Date</th>\n      <th>Movie_Title</th>\n      <th>USD_Production_Budget</th>\n      <th>USD_Worldwide_Gross</th>\n      <th>USD_Domestic_Gross</th>\n    </tr>\n  </thead>\n  <tbody>\n    <tr>\n      <th>71</th>\n      <td>4310</td>\n      <td>1956-02-16</td>\n      <td>Carousel</td>\n      <td>3380000</td>\n      <td>3220</td>\n      <td>0</td>\n    </tr>\n    <tr>\n      <th>1579</th>\n      <td>5087</td>\n      <td>2001-02-11</td>\n      <td>Everything Put Together</td>\n      <td>500000</td>\n      <td>7890</td>\n      <td>0</td>\n    </tr>\n    <tr>\n      <th>1744</th>\n      <td>3695</td>\n      <td>2001-12-31</td>\n      <td>The Hole</td>\n      <td>7500000</td>\n      <td>10834406</td>\n      <td>0</td>\n    </tr>\n    <tr>\n      <th>2155</th>\n      <td>4236</td>\n      <td>2003-12-31</td>\n      <td>Nothing</td>\n      <td>4000000</td>\n      <td>63180</td>\n      <td>0</td>\n    </tr>\n    <tr>\n      <th>2203</th>\n      <td>2513</td>\n      <td>2004-03-31</td>\n      <td>The Touch</td>\n      <td>20000000</td>\n      <td>5918742</td>\n      <td>0</td>\n    </tr>\n    <tr>\n      <th>...</th>\n      <td>...</td>\n      <td>...</td>\n      <td>...</td>\n      <td>...</td>\n      <td>...</td>\n      <td>...</td>\n    </tr>\n    <tr>\n      <th>5340</th>\n      <td>1506</td>\n      <td>2017-04-14</td>\n      <td>Queen of the Desert</td>\n      <td>36000000</td>\n      <td>1480089</td>\n      <td>0</td>\n    </tr>\n    <tr>\n      <th>5348</th>\n      <td>2225</td>\n      <td>2017-05-05</td>\n      <td>Chāi dàn zhuānjiā</td>\n      <td>23000000</td>\n      <td>58807172</td>\n      <td>0</td>\n    </tr>\n    <tr>\n      <th>5360</th>\n      <td>4832</td>\n      <td>2017-07-03</td>\n      <td>Departure</td>\n      <td>1100000</td>\n      <td>27561</td>\n      <td>0</td>\n    </tr>\n    <tr>\n      <th>5372</th>\n      <td>1856</td>\n      <td>2017-08-25</td>\n      <td>Ballerina</td>\n      <td>30000000</td>\n      <td>48048527</td>\n      <td>0</td>\n    </tr>\n    <tr>\n      <th>5374</th>\n      <td>4237</td>\n      <td>2017-08-25</td>\n      <td>Polina danser sa vie</td>\n      <td>4000000</td>\n      <td>36630</td>\n      <td>0</td>\n    </tr>\n  </tbody>\n</table>\n<p>155 rows × 6 columns</p>\n</div>"
     },
     "execution_count": 21,
     "metadata": {},
     "output_type": "execute_result"
    }
   ]
  },
  {
   "cell_type": "markdown",
   "metadata": {
    "id": "EM-FTE4OZhfr"
   },
   "source": [
    "### Unreleased Films\n",
    "\n",
    "**Challenge**:\n",
    "* Identify which films were not released yet as of the time of data collection (May 1st, 2018).\n",
    "* How many films are included in the dataset that have not yet had a chance to be screened in the box office? \n",
    "* Create another DataFrame called data_clean that does not include these films. "
   ]
  },
  {
   "cell_type": "code",
   "metadata": {
    "id": "PIukYVY9Zpxu"
   },
   "source": [
    "# Date of Data Collection\n",
    "scrape_date = pd.Timestamp('2018-5-1')"
   ],
   "execution_count": 34,
   "outputs": []
  },
  {
   "cell_type": "code",
   "metadata": {
    "id": "OAI0VsM3Tc6v"
   },
   "source": [
    "unreleased = data.loc[data[\"Release_Date\"] >= scrape_date]\n",
    "unreleased"
   ],
   "execution_count": 35,
   "outputs": [
    {
     "data": {
      "text/plain": "      Rank Release_Date                     Movie_Title  \\\n5384   321   2018-09-03               A Wrinkle in Time   \n5385   366   2018-10-08                  Amusement Park   \n5386  2950   2018-10-08                             Meg   \n5387   126   2018-12-18                         Aquaman   \n5388    96   2020-12-31                     Singularity   \n5389  1119   2020-12-31          Hannibal the Conqueror   \n5390  2517   2020-12-31  Story of Bonnie and Clyde, The   \n\n      USD_Production_Budget  USD_Worldwide_Gross  USD_Domestic_Gross  \n5384              103000000                    0                   0  \n5385              100000000                    0                   0  \n5386               15000000                    0                   0  \n5387              160000000                    0                   0  \n5388              175000000                    0                   0  \n5389               50000000                    0                   0  \n5390               20000000                    0                   0  ",
      "text/html": "<div>\n<style scoped>\n    .dataframe tbody tr th:only-of-type {\n        vertical-align: middle;\n    }\n\n    .dataframe tbody tr th {\n        vertical-align: top;\n    }\n\n    .dataframe thead th {\n        text-align: right;\n    }\n</style>\n<table border=\"1\" class=\"dataframe\">\n  <thead>\n    <tr style=\"text-align: right;\">\n      <th></th>\n      <th>Rank</th>\n      <th>Release_Date</th>\n      <th>Movie_Title</th>\n      <th>USD_Production_Budget</th>\n      <th>USD_Worldwide_Gross</th>\n      <th>USD_Domestic_Gross</th>\n    </tr>\n  </thead>\n  <tbody>\n    <tr>\n      <th>5384</th>\n      <td>321</td>\n      <td>2018-09-03</td>\n      <td>A Wrinkle in Time</td>\n      <td>103000000</td>\n      <td>0</td>\n      <td>0</td>\n    </tr>\n    <tr>\n      <th>5385</th>\n      <td>366</td>\n      <td>2018-10-08</td>\n      <td>Amusement Park</td>\n      <td>100000000</td>\n      <td>0</td>\n      <td>0</td>\n    </tr>\n    <tr>\n      <th>5386</th>\n      <td>2950</td>\n      <td>2018-10-08</td>\n      <td>Meg</td>\n      <td>15000000</td>\n      <td>0</td>\n      <td>0</td>\n    </tr>\n    <tr>\n      <th>5387</th>\n      <td>126</td>\n      <td>2018-12-18</td>\n      <td>Aquaman</td>\n      <td>160000000</td>\n      <td>0</td>\n      <td>0</td>\n    </tr>\n    <tr>\n      <th>5388</th>\n      <td>96</td>\n      <td>2020-12-31</td>\n      <td>Singularity</td>\n      <td>175000000</td>\n      <td>0</td>\n      <td>0</td>\n    </tr>\n    <tr>\n      <th>5389</th>\n      <td>1119</td>\n      <td>2020-12-31</td>\n      <td>Hannibal the Conqueror</td>\n      <td>50000000</td>\n      <td>0</td>\n      <td>0</td>\n    </tr>\n    <tr>\n      <th>5390</th>\n      <td>2517</td>\n      <td>2020-12-31</td>\n      <td>Story of Bonnie and Clyde, The</td>\n      <td>20000000</td>\n      <td>0</td>\n      <td>0</td>\n    </tr>\n  </tbody>\n</table>\n</div>"
     },
     "execution_count": 35,
     "metadata": {},
     "output_type": "execute_result"
    }
   ]
  },
  {
   "cell_type": "code",
   "execution_count": 36,
   "outputs": [
    {
     "data": {
      "text/plain": "      Rank Release_Date                       Movie_Title  \\\n0     5293   1915-08-02             The Birth of a Nation   \n1     5140   1916-05-09                       Intolerance   \n2     5230   1916-12-24      20,000 Leagues Under the Sea   \n3     5299   1920-09-17    Over the Hill to the Poorhouse   \n4     5222   1925-01-01                    The Big Parade   \n...    ...          ...                               ...   \n5379  1295   2017-10-02            John Wick: Chapter Two   \n5380    70   2017-10-03                Kong: Skull Island   \n5381    94   2017-12-05  King Arthur: Legend of the Sword   \n5382  1254   2017-12-05                          Snatched   \n5383  2521   2017-12-31                The Thousand Miles   \n\n      USD_Production_Budget  USD_Worldwide_Gross  USD_Domestic_Gross  \n0                    110000             11000000            10000000  \n1                    385907                    0                   0  \n2                    200000              8000000             8000000  \n3                    100000              3000000             3000000  \n4                    245000             22000000            11000000  \n...                     ...                  ...                 ...  \n5379               40000000            166893990            92029184  \n5380              185000000            561137727           168052812  \n5381              175000000            140012608            39175066  \n5382               42000000             57850343            45850343  \n5383               20000000                    0                   0  \n\n[5384 rows x 6 columns]",
      "text/html": "<div>\n<style scoped>\n    .dataframe tbody tr th:only-of-type {\n        vertical-align: middle;\n    }\n\n    .dataframe tbody tr th {\n        vertical-align: top;\n    }\n\n    .dataframe thead th {\n        text-align: right;\n    }\n</style>\n<table border=\"1\" class=\"dataframe\">\n  <thead>\n    <tr style=\"text-align: right;\">\n      <th></th>\n      <th>Rank</th>\n      <th>Release_Date</th>\n      <th>Movie_Title</th>\n      <th>USD_Production_Budget</th>\n      <th>USD_Worldwide_Gross</th>\n      <th>USD_Domestic_Gross</th>\n    </tr>\n  </thead>\n  <tbody>\n    <tr>\n      <th>0</th>\n      <td>5293</td>\n      <td>1915-08-02</td>\n      <td>The Birth of a Nation</td>\n      <td>110000</td>\n      <td>11000000</td>\n      <td>10000000</td>\n    </tr>\n    <tr>\n      <th>1</th>\n      <td>5140</td>\n      <td>1916-05-09</td>\n      <td>Intolerance</td>\n      <td>385907</td>\n      <td>0</td>\n      <td>0</td>\n    </tr>\n    <tr>\n      <th>2</th>\n      <td>5230</td>\n      <td>1916-12-24</td>\n      <td>20,000 Leagues Under the Sea</td>\n      <td>200000</td>\n      <td>8000000</td>\n      <td>8000000</td>\n    </tr>\n    <tr>\n      <th>3</th>\n      <td>5299</td>\n      <td>1920-09-17</td>\n      <td>Over the Hill to the Poorhouse</td>\n      <td>100000</td>\n      <td>3000000</td>\n      <td>3000000</td>\n    </tr>\n    <tr>\n      <th>4</th>\n      <td>5222</td>\n      <td>1925-01-01</td>\n      <td>The Big Parade</td>\n      <td>245000</td>\n      <td>22000000</td>\n      <td>11000000</td>\n    </tr>\n    <tr>\n      <th>...</th>\n      <td>...</td>\n      <td>...</td>\n      <td>...</td>\n      <td>...</td>\n      <td>...</td>\n      <td>...</td>\n    </tr>\n    <tr>\n      <th>5379</th>\n      <td>1295</td>\n      <td>2017-10-02</td>\n      <td>John Wick: Chapter Two</td>\n      <td>40000000</td>\n      <td>166893990</td>\n      <td>92029184</td>\n    </tr>\n    <tr>\n      <th>5380</th>\n      <td>70</td>\n      <td>2017-10-03</td>\n      <td>Kong: Skull Island</td>\n      <td>185000000</td>\n      <td>561137727</td>\n      <td>168052812</td>\n    </tr>\n    <tr>\n      <th>5381</th>\n      <td>94</td>\n      <td>2017-12-05</td>\n      <td>King Arthur: Legend of the Sword</td>\n      <td>175000000</td>\n      <td>140012608</td>\n      <td>39175066</td>\n    </tr>\n    <tr>\n      <th>5382</th>\n      <td>1254</td>\n      <td>2017-12-05</td>\n      <td>Snatched</td>\n      <td>42000000</td>\n      <td>57850343</td>\n      <td>45850343</td>\n    </tr>\n    <tr>\n      <th>5383</th>\n      <td>2521</td>\n      <td>2017-12-31</td>\n      <td>The Thousand Miles</td>\n      <td>20000000</td>\n      <td>0</td>\n      <td>0</td>\n    </tr>\n  </tbody>\n</table>\n<p>5384 rows × 6 columns</p>\n</div>"
     },
     "execution_count": 36,
     "metadata": {},
     "output_type": "execute_result"
    }
   ],
   "source": [
    "clean_data = data.drop(unreleased.index)\n",
    "clean_data"
   ],
   "metadata": {
    "collapsed": false
   }
  },
  {
   "cell_type": "markdown",
   "metadata": {
    "id": "khrJcXlGZWZO"
   },
   "source": [
    "### Films that Lost Money\n",
    "\n",
    "**Challenge**: \n",
    "What is the percentage of films where the production costs exceeded the worldwide gross revenue? "
   ]
  },
  {
   "cell_type": "code",
   "metadata": {
    "id": "7uW_U9StTgvZ"
   },
   "source": [
    "failures = clean_data.loc[clean_data[\"USD_Worldwide_Gross\"] < clean_data[\"USD_Production_Budget\"]]\n",
    "failures_percentage = len(failures) / len(clean_data) * 100\n",
    "failures_percentage"
   ],
   "execution_count": 42,
   "outputs": [
    {
     "data": {
      "text/plain": "37.27711738484398"
     },
     "execution_count": 42,
     "metadata": {},
     "output_type": "execute_result"
    }
   ]
  },
  {
   "cell_type": "markdown",
   "metadata": {
    "id": "cfJUL3WwyiDy"
   },
   "source": [
    "# Seaborn for Data Viz: Bubble Charts"
   ]
  },
  {
   "cell_type": "code",
   "metadata": {
    "id": "YXa3bp1uTiSS"
   },
   "source": [],
   "execution_count": null,
   "outputs": []
  },
  {
   "cell_type": "markdown",
   "metadata": {
    "id": "e7NIOiL2y3en"
   },
   "source": [
    "### Plotting Movie Releases over Time\n",
    "\n",
    "**Challenge**: Try to create the following Bubble Chart:\n",
    "\n",
    "<img src=https://i.imgur.com/8fUn9T6.png>\n",
    "\n"
   ]
  },
  {
   "cell_type": "code",
   "metadata": {
    "id": "OT0D-i3HTmsB"
   },
   "source": [],
   "execution_count": null,
   "outputs": []
  },
  {
   "cell_type": "markdown",
   "metadata": {
    "id": "r_2hFz9py84b"
   },
   "source": [
    "# Converting Years to Decades Trick\n",
    "\n",
    "**Challenge**: Create a column in `data_clean` that has the decade of the release. \n",
    "\n",
    "<img src=https://i.imgur.com/0VEfagw.png width=650> \n",
    "\n",
    "Here's how: \n",
    "1. Create a [`DatetimeIndex` object](https://pandas.pydata.org/pandas-docs/stable/reference/api/pandas.DatetimeIndex.html) from the Release_Date column. \n",
    "2. Grab all the years from the `DatetimeIndex` object using the `.year` property.\n",
    "<img src=https://i.imgur.com/5m06Ach.png width=650>\n",
    "3. Use floor division `//` to convert the year data to the decades of the films.\n",
    "4. Add the decades as a `Decade` column to the `data_clean` DataFrame."
   ]
  },
  {
   "cell_type": "code",
   "metadata": {
    "id": "lak08IPMTn-j"
   },
   "source": [],
   "execution_count": null,
   "outputs": []
  },
  {
   "cell_type": "markdown",
   "metadata": {
    "id": "q-X7NK_9zIz9"
   },
   "source": [
    "### Separate the \"old\" (before 1969) and \"New\" (1970s onwards) Films\n",
    "\n",
    "**Challenge**: Create two new DataFrames: `old_films` and `new_films`\n",
    "* `old_films` should include all the films before 1969 (up to and including 1969)\n",
    "* `new_films` should include all the films from 1970 onwards\n",
    "* How many films were released prior to 1970?\n",
    "* What was the most expensive film made prior to 1970?"
   ]
  },
  {
   "cell_type": "code",
   "metadata": {
    "id": "qe93nMcBTqQz"
   },
   "source": [],
   "execution_count": null,
   "outputs": []
  },
  {
   "cell_type": "markdown",
   "metadata": {
    "id": "msXABzF3zW7e"
   },
   "source": [
    "# Seaborn Regression Plots"
   ]
  },
  {
   "cell_type": "code",
   "metadata": {
    "id": "2ajPcWMJTsom"
   },
   "source": [],
   "execution_count": null,
   "outputs": []
  },
  {
   "cell_type": "markdown",
   "metadata": {
    "id": "6k4MeLmxWFwX"
   },
   "source": [
    "**Challenge**: Use Seaborn's `.regplot()` to show the scatter plot and linear regression line against the `new_films`. \n",
    "<br>\n",
    "<br>\n",
    "Style the chart\n",
    "\n",
    "* Put the chart on a `'darkgrid'`.\n",
    "* Set limits on the axes so that they don't show negative values.\n",
    "* Label the axes on the plot \"Revenue in \\$ billions\" and \"Budget in \\$ millions\".\n",
    "* Provide HEX colour codes for the plot and the regression line. Make the dots dark blue (#2f4b7c) and the line orange (#ff7c43).\n",
    "\n",
    "Interpret the chart\n",
    "\n",
    "* Do our data points for the new films align better or worse with the linear regression than for our older films?\n",
    "* Roughly how much would a film with a budget of $150 million make according to the regression line?"
   ]
  },
  {
   "cell_type": "code",
   "metadata": {
    "id": "6cOVsxqvTui2"
   },
   "source": [],
   "execution_count": null,
   "outputs": []
  },
  {
   "cell_type": "markdown",
   "metadata": {
    "id": "Q1SUPPMAzlVK"
   },
   "source": [
    "# Run Your Own Regression with scikit-learn\n",
    "\n",
    "$$ REV \\hat ENUE = \\theta _0 + \\theta _1 BUDGET$$"
   ]
  },
  {
   "cell_type": "code",
   "metadata": {
    "id": "QmX-wMMLTwBW"
   },
   "source": [],
   "execution_count": null,
   "outputs": []
  },
  {
   "cell_type": "markdown",
   "metadata": {
    "id": "o23E9iT1RHQ1"
   },
   "source": [
    "**Challenge**: Run a linear regression for the `old_films`. Calculate the intercept, slope and r-squared. How much of the variance in movie revenue does the linear model explain in this case?"
   ]
  },
  {
   "cell_type": "code",
   "metadata": {
    "id": "Sd43DJNDT0yQ"
   },
   "source": [],
   "execution_count": null,
   "outputs": []
  },
  {
   "cell_type": "code",
   "metadata": {
    "id": "ygKsLBx5Rs7t"
   },
   "source": [],
   "execution_count": null,
   "outputs": []
  },
  {
   "cell_type": "markdown",
   "metadata": {
    "id": "hoD3PeG75p78"
   },
   "source": [
    "# Use Your Model to Make a Prediction\n",
    "\n",
    "We just estimated the slope and intercept! Remember that our Linear Model has the following form:\n",
    "\n",
    "$$ REV \\hat ENUE = \\theta _0 + \\theta _1 BUDGET$$\n",
    "\n",
    "**Challenge**:  How much global revenue does our model estimate for a film with a budget of $350 million? "
   ]
  },
  {
   "cell_type": "code",
   "metadata": {
    "id": "fX4I4h5i5rgF"
   },
   "source": [],
   "execution_count": null,
   "outputs": []
  },
  {
   "cell_type": "code",
   "metadata": {
    "id": "fB2Yp8ln5qfO"
   },
   "source": [],
   "execution_count": null,
   "outputs": []
  }
 ]
}
